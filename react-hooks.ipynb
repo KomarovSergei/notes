{
 "cells": [
  {
   "cell_type": "raw",
   "metadata": {},
   "source": [
    "### React Class / React Hooks"
   ]
  },
  {
   "cell_type": "code",
   "execution_count": 1,
   "metadata": {},
   "outputs": [
    {
     "ename": "SyntaxError",
     "evalue": "Cannot use import statement outside a module",
     "execution_count": 1,
     "output_type": "error",
     "traceback": [
      "evalmachine.<anonymous>:1",
      "import React, { useState } from \"react\";",
      "^^^^^^",
      "",
      "SyntaxError: Cannot use import statement outside a module",
      "    at new Script (vm.js:84:7)",
      "    at createScript (vm.js:258:10)",
      "    at Object.runInThisContext (vm.js:306:10)",
      "    at run ([eval]:1054:15)",
      "    at onRunRequest ([eval]:888:18)",
      "    at onMessage ([eval]:848:13)",
      "    at process.emit (events.js:210:5)",
      "    at emit (internal/child_process.js:876:12)",
      "    at processTicksAndRejections (internal/process/task_queues.js:81:21)"
     ]
    }
   ],
   "source": [
    "import React, { useState } from \"react\";\n",
    "import ReactDOM from \"react-dom\";\n",
    "\n",
    "// class OneTimeButton extends React.Component {\n",
    "//   state = {\n",
    "//     clicked: false,\n",
    "//   };\n",
    "\n",
    "//   handleClick = () => {\n",
    "//     this.setState({ clicked: true });\n",
    "//   };\n",
    "\n",
    "//   render() {\n",
    "//     return (\n",
    "//       <button onClick={this.handleClick} disabled={this.state.clicked}>\n",
    "//         You can click me once.\n",
    "//       </button>\n",
    "//     );\n",
    "//   }\n",
    "// }\n",
    "\n",
    "function OneTimeButton() {\n",
    "  const [clicked, setClicked] = useState(false);\n",
    "\n",
    "  const handleClick = () => {\n",
    "    setClicked(true);\n",
    "  };\n",
    "\n",
    "  return (\n",
    "    <button onClick={handleClick} disabled={clicked}>\n",
    "      You Can Only Click Me Once\n",
    "    </button>\n",
    "  );\n",
    "}\n",
    "\n",
    "ReactDOM.render(<OneTimeButton />, document.querySelector(\"#root\"));"
   ]
  }
 ],
 "metadata": {
  "kernelspec": {
   "display_name": "Javascript (Node.js)",
   "language": "javascript",
   "name": "javascript"
  },
  "language_info": {
   "file_extension": ".js",
   "mimetype": "application/javascript",
   "name": "javascript",
   "version": "12.13.0"
  }
 },
 "nbformat": 4,
 "nbformat_minor": 2
}
