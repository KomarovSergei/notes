{
 "cells": [
  {
   "cell_type": "markdown",
   "metadata": {},
   "source": [
    "### SOLID:\n",
    "* Single Responsibility Principle:\n",
    "    * A class should only have one reason to change\n",
    "    * Separation of concerns - different classes handling different, independent tasks/problems\n",
    "* Open-Closed Principle\n",
    "    * Classes should be open for extension but closed for modification\n",
    "* Liskov Substition Principle\n",
    "    * You should be able to substitute a base type for a subtype\n",
    "* Dependency Inversion Principle\n",
    "    * High-level modules should not depend upon low-level ones; use abstractions"
   ]
  },
  {
   "cell_type": "markdown",
   "metadata": {},
   "source": [
    "### Builder\n",
    "* A builder is a separate component for building an object\n",
    "* Can either give builder an initializer or return it via a static function\n",
    "* To make builder fluent, return this\n",
    "* Different facets of an object can be built with different builders working in tandem via a base class"
   ]
  },
  {
   "cell_type": "markdown",
   "metadata": {},
   "source": [
    "### Factory\n",
    "* A factory method is a static method that creates objects\n",
    "* A factory is any entity that can take care of object creation\n",
    "* A factory can be external or reside inside the object as inner class\n",
    "* Hierarchies of factories can be used to create related objects"
   ]
  },
  {
   "cell_type": "markdown",
   "metadata": {},
   "source": [
    "### Prototype\n",
    "* To implement a prototype, partially construct an object and store it somewhere\n",
    "* Deep copy the prototype\n",
    "* Customize the resulting instance\n",
    "* A factory provides a convenient API for using prototypes\n"
   ]
  }
 ],
 "metadata": {
  "kernelspec": {
   "display_name": "Javascript (Node.js)",
   "language": "javascript",
   "name": "javascript"
  },
  "language_info": {
   "file_extension": ".js",
   "mimetype": "application/javascript",
   "name": "javascript",
   "version": "12.13.0"
  }
 },
 "nbformat": 4,
 "nbformat_minor": 2
}
