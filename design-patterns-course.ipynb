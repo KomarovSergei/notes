{
 "cells": [
  {
   "cell_type": "markdown",
   "metadata": {},
   "source": [
    "## SOLID:\n",
    "* Single Responsibility Principle:\n",
    "    * A class should only have one reason to change\n",
    "    * Separation of concerns - different classes handling different, independent tasks/problems\n",
    "* Open-Closed Principle\n",
    "    * Classes should be open for extension but closed for modification\n",
    "* Liskov Substition Principle\n",
    "    * You should be able to substitute a base type for a subtype\n",
    "* Dependency Inversion Principle\n",
    "    * High-level modules should not depend upon low-level ones; use abstractions"
   ]
  },
  {
   "cell_type": "markdown",
   "metadata": {},
   "source": [
    "### Builder\n",
    "* A builder is a separate component for building an object\n",
    "* Can either give builder an initializer or return it via a static function\n",
    "* To make builder fluent, return this\n",
    "* Different facets of an object can be built with different builders working in tandem via a base class"
   ]
  }
 ],
 "metadata": {
  "kernelspec": {
   "display_name": "Javascript (Node.js)",
   "language": "javascript",
   "name": "javascript"
  },
  "language_info": {
   "file_extension": ".js",
   "mimetype": "application/javascript",
   "name": "javascript",
   "version": "12.13.0"
  }
 },
 "nbformat": 4,
 "nbformat_minor": 2
}
