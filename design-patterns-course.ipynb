{
 "cells": [
  {
   "cell_type": "raw",
   "metadata": {},
   "source": [
    "## SOLID:\n",
    "* Single Responsibility Principle:\n",
    "    * A class should only have one reason to change\n",
    "    * Separation of concerns - different classes handling different, independent tasks/problems\n",
    "* Open-Closed Principle\n",
    "    * Classes should be open for extension but closed for modification\n",
    "* Liskov Substition Principle\n",
    "    * You should be able to substitute a base type for a subtype\n",
    "* Dependency Inversion Principle\n",
    "    * High-level modules should not depend upon low-level ones; use abstractions"
   ]
  },
  {
   "cell_type": "code",
   "execution_count": null,
   "metadata": {},
   "outputs": [],
   "source": []
  }
 ],
 "metadata": {
  "kernelspec": {
   "display_name": "Javascript (Node.js)",
   "language": "javascript",
   "name": "javascript"
  },
  "language_info": {
   "file_extension": ".js",
   "mimetype": "application/javascript",
   "name": "javascript",
   "version": "12.13.0"
  }
 },
 "nbformat": 4,
 "nbformat_minor": 2
}
